{
 "cells": [
  {
   "cell_type": "code",
   "execution_count": 92,
   "id": "295d1cd1-cc83-48c2-9ce0-a7d197f9581a",
   "metadata": {},
   "outputs": [],
   "source": [
    "# Import các thư viện thông dụng\n",
    "import numpy as np\n",
    "import pandas as pd\n",
    "import matplotlib.pyplot as plt\n",
    "import seaborn as sns\n",
    "\n",
    "# Import các distribution packages từ thư viện scipy\n",
    "from scipy.stats import binom\n",
    "from scipy.stats import poisson\n",
    "from scipy.stats import norm\n",
    "from scipy.stats import t"
   ]
  },
  {
   "cell_type": "code",
   "execution_count": 93,
   "id": "40458504-498f-4ed6-9314-bb2875d5a233",
   "metadata": {},
   "outputs": [
    {
     "data": {
      "text/html": [
       "<div>\n",
       "<style scoped>\n",
       "    .dataframe tbody tr th:only-of-type {\n",
       "        vertical-align: middle;\n",
       "    }\n",
       "\n",
       "    .dataframe tbody tr th {\n",
       "        vertical-align: top;\n",
       "    }\n",
       "\n",
       "    .dataframe thead th {\n",
       "        text-align: right;\n",
       "    }\n",
       "</style>\n",
       "<table border=\"1\" class=\"dataframe\">\n",
       "  <thead>\n",
       "    <tr style=\"text-align: right;\">\n",
       "      <th></th>\n",
       "      <th>DienTich</th>\n",
       "      <th>LoaiDat</th>\n",
       "      <th>MatTien</th>\n",
       "    </tr>\n",
       "  </thead>\n",
       "  <tbody>\n",
       "    <tr>\n",
       "      <th>0</th>\n",
       "      <td>167</td>\n",
       "      <td>1_dat_nong_nghiep</td>\n",
       "      <td>15</td>\n",
       "    </tr>\n",
       "    <tr>\n",
       "      <th>1</th>\n",
       "      <td>200</td>\n",
       "      <td>2_dat_khong_thoi_han</td>\n",
       "      <td>20</td>\n",
       "    </tr>\n",
       "    <tr>\n",
       "      <th>2</th>\n",
       "      <td>40</td>\n",
       "      <td>10_dat_nong_nghiep</td>\n",
       "      <td>40</td>\n",
       "    </tr>\n",
       "    <tr>\n",
       "      <th>3</th>\n",
       "      <td>23</td>\n",
       "      <td>15_dat_co_thoi_han</td>\n",
       "      <td>67</td>\n",
       "    </tr>\n",
       "    <tr>\n",
       "      <th>4</th>\n",
       "      <td>1000</td>\n",
       "      <td>2_dat_nong_nghiep</td>\n",
       "      <td>90</td>\n",
       "    </tr>\n",
       "    <tr>\n",
       "      <th>5</th>\n",
       "      <td>3000</td>\n",
       "      <td>1_dat_khong_thoi_han</td>\n",
       "      <td>45</td>\n",
       "    </tr>\n",
       "  </tbody>\n",
       "</table>\n",
       "</div>"
      ],
      "text/plain": [
       "   DienTich               LoaiDat  MatTien\n",
       "0       167     1_dat_nong_nghiep       15\n",
       "1       200  2_dat_khong_thoi_han       20\n",
       "2        40    10_dat_nong_nghiep       40\n",
       "3        23    15_dat_co_thoi_han       67\n",
       "4      1000     2_dat_nong_nghiep       90\n",
       "5      3000  1_dat_khong_thoi_han       45"
      ]
     },
     "execution_count": 93,
     "metadata": {},
     "output_type": "execute_result"
    }
   ],
   "source": [
    "df = pd.read_csv('datasets/C62.csv', header=0)\n",
    "df"
   ]
  },
  {
   "cell_type": "code",
   "execution_count": 94,
   "id": "80f4124e-9e60-4375-9711-9d8a254ce1d9",
   "metadata": {},
   "outputs": [
    {
     "data": {
      "text/html": [
       "<div>\n",
       "<style scoped>\n",
       "    .dataframe tbody tr th:only-of-type {\n",
       "        vertical-align: middle;\n",
       "    }\n",
       "\n",
       "    .dataframe tbody tr th {\n",
       "        vertical-align: top;\n",
       "    }\n",
       "\n",
       "    .dataframe thead th {\n",
       "        text-align: right;\n",
       "    }\n",
       "</style>\n",
       "<table border=\"1\" class=\"dataframe\">\n",
       "  <thead>\n",
       "    <tr style=\"text-align: right;\">\n",
       "      <th></th>\n",
       "      <th>DienTich</th>\n",
       "      <th>LoaiDat</th>\n",
       "      <th>MatTien</th>\n",
       "    </tr>\n",
       "  </thead>\n",
       "  <tbody>\n",
       "    <tr>\n",
       "      <th>0</th>\n",
       "      <td>167</td>\n",
       "      <td>1_dat_nong_nghiep</td>\n",
       "      <td>15</td>\n",
       "    </tr>\n",
       "    <tr>\n",
       "      <th>1</th>\n",
       "      <td>200</td>\n",
       "      <td>2_dat_khong_thoi_han</td>\n",
       "      <td>20</td>\n",
       "    </tr>\n",
       "    <tr>\n",
       "      <th>2</th>\n",
       "      <td>40</td>\n",
       "      <td>10_dat_nong_nghiep</td>\n",
       "      <td>40</td>\n",
       "    </tr>\n",
       "    <tr>\n",
       "      <th>3</th>\n",
       "      <td>23</td>\n",
       "      <td>15_dat_co_thoi_han</td>\n",
       "      <td>67</td>\n",
       "    </tr>\n",
       "    <tr>\n",
       "      <th>4</th>\n",
       "      <td>1000</td>\n",
       "      <td>2_dat_nong_nghiep</td>\n",
       "      <td>90</td>\n",
       "    </tr>\n",
       "  </tbody>\n",
       "</table>\n",
       "</div>"
      ],
      "text/plain": [
       "   DienTich               LoaiDat  MatTien\n",
       "0       167     1_dat_nong_nghiep       15\n",
       "1       200  2_dat_khong_thoi_han       20\n",
       "2        40    10_dat_nong_nghiep       40\n",
       "3        23    15_dat_co_thoi_han       67\n",
       "4      1000     2_dat_nong_nghiep       90"
      ]
     },
     "execution_count": 94,
     "metadata": {},
     "output_type": "execute_result"
    }
   ],
   "source": [
    "# Hiển thị 5 dòng đầu tiên\n",
    "df.head(5)"
   ]
  },
  {
   "cell_type": "code",
   "execution_count": 95,
   "id": "013c5313-420f-48de-9b62-fc3c26ff061b",
   "metadata": {},
   "outputs": [
    {
     "data": {
      "text/html": [
       "<div>\n",
       "<style scoped>\n",
       "    .dataframe tbody tr th:only-of-type {\n",
       "        vertical-align: middle;\n",
       "    }\n",
       "\n",
       "    .dataframe tbody tr th {\n",
       "        vertical-align: top;\n",
       "    }\n",
       "\n",
       "    .dataframe thead th {\n",
       "        text-align: right;\n",
       "    }\n",
       "</style>\n",
       "<table border=\"1\" class=\"dataframe\">\n",
       "  <thead>\n",
       "    <tr style=\"text-align: right;\">\n",
       "      <th></th>\n",
       "      <th>DienTich</th>\n",
       "      <th>LoaiDat</th>\n",
       "      <th>MatTien</th>\n",
       "    </tr>\n",
       "  </thead>\n",
       "  <tbody>\n",
       "    <tr>\n",
       "      <th>5</th>\n",
       "      <td>3000</td>\n",
       "      <td>1_dat_khong_thoi_han</td>\n",
       "      <td>45</td>\n",
       "    </tr>\n",
       "    <tr>\n",
       "      <th>2</th>\n",
       "      <td>40</td>\n",
       "      <td>10_dat_nong_nghiep</td>\n",
       "      <td>40</td>\n",
       "    </tr>\n",
       "    <tr>\n",
       "      <th>3</th>\n",
       "      <td>23</td>\n",
       "      <td>15_dat_co_thoi_han</td>\n",
       "      <td>67</td>\n",
       "    </tr>\n",
       "    <tr>\n",
       "      <th>0</th>\n",
       "      <td>167</td>\n",
       "      <td>1_dat_nong_nghiep</td>\n",
       "      <td>15</td>\n",
       "    </tr>\n",
       "    <tr>\n",
       "      <th>4</th>\n",
       "      <td>1000</td>\n",
       "      <td>2_dat_nong_nghiep</td>\n",
       "      <td>90</td>\n",
       "    </tr>\n",
       "  </tbody>\n",
       "</table>\n",
       "</div>"
      ],
      "text/plain": [
       "   DienTich               LoaiDat  MatTien\n",
       "5      3000  1_dat_khong_thoi_han       45\n",
       "2        40    10_dat_nong_nghiep       40\n",
       "3        23    15_dat_co_thoi_han       67\n",
       "0       167     1_dat_nong_nghiep       15\n",
       "4      1000     2_dat_nong_nghiep       90"
      ]
     },
     "execution_count": 95,
     "metadata": {},
     "output_type": "execute_result"
    }
   ],
   "source": [
    "# Hiển thị 5 dòng ngẫu nhiên\n",
    "df.sample(5)"
   ]
  },
  {
   "cell_type": "code",
   "execution_count": 96,
   "id": "06a5aa49-7d4a-48e5-9682-3376fca00d81",
   "metadata": {},
   "outputs": [
    {
     "name": "stdout",
     "output_type": "stream",
     "text": [
      "18\n"
     ]
    }
   ],
   "source": [
    "# Kích thước df\n",
    "print(df.size)"
   ]
  },
  {
   "cell_type": "code",
   "execution_count": 97,
   "id": "1553afcf-4eb5-4c63-aa0a-6e58d4263186",
   "metadata": {},
   "outputs": [
    {
     "name": "stdout",
     "output_type": "stream",
     "text": [
      "(6, 3)\n"
     ]
    }
   ],
   "source": [
    "print(df.shape)"
   ]
  },
  {
   "cell_type": "code",
   "execution_count": 98,
   "id": "121f1feb-f57d-441c-9c39-1133e80da78d",
   "metadata": {},
   "outputs": [
    {
     "name": "stdout",
     "output_type": "stream",
     "text": [
      "đất nông nghiệp:\n"
     ]
    }
   ],
   "source": [
    "print('đất nông nghiệp:')\n",
    "df_nongnghiep = df[df['LoaiDat'].str.contains('dat_nong_nghiep', case=False, na=False)]"
   ]
  },
  {
   "cell_type": "code",
   "execution_count": 99,
   "id": "6817adc3-a9ed-4f05-b74b-c17e442faf40",
   "metadata": {},
   "outputs": [
    {
     "name": "stdout",
     "output_type": "stream",
     "text": [
      "đất không thời hạn:\n"
     ]
    }
   ],
   "source": [
    "print('đất không thời hạn:')\n",
    "df_kothoihan = df[df['LoaiDat'].str.contains('dat_khong_thoi_han', case=False, na=False)]"
   ]
  },
  {
   "cell_type": "code",
   "execution_count": 100,
   "id": "5517aed5-3d37-4e35-8314-83e5b9cf42c4",
   "metadata": {},
   "outputs": [
    {
     "data": {
      "image/png": "[encoded data removed]",
      "text/plain": [
       "<Figure size 600x600 with 1 Axes>"
      ]
     },
     "metadata": {},
     "output_type": "display_data"
    }
   ],
   "source": [
    "plt.figure(figsize=(6, 6))\n",
    "colors = ['skyblue', 'lightgreen']\n",
    "sizes = [\n",
    "    len(df_nongnghiep),\n",
    "    len(df_kothoihan)\n",
    "]\n",
    "\n",
    "plt.pie(\n",
    "    sizes, labels=['đất nông nghiệp', 'đất không thời hạn'], colors=colors, \n",
    "    autopct='%1.1f%%', startangle=90\n",
    ")\n",
    "plt.show()"
   ]
  },
  {
   "cell_type": "code",
   "execution_count": 101,
   "id": "5f38d89a-6bfa-44d1-85e0-7ab8d38bb68e",
   "metadata": {},
   "outputs": [
    {
     "data": {
      "text/html": [
       "<div>\n",
       "<style scoped>\n",
       "    .dataframe tbody tr th:only-of-type {\n",
       "        vertical-align: middle;\n",
       "    }\n",
       "\n",
       "    .dataframe tbody tr th {\n",
       "        vertical-align: top;\n",
       "    }\n",
       "\n",
       "    .dataframe thead th {\n",
       "        text-align: right;\n",
       "    }\n",
       "</style>\n",
       "<table border=\"1\" class=\"dataframe\">\n",
       "  <thead>\n",
       "    <tr style=\"text-align: right;\">\n",
       "      <th></th>\n",
       "      <th>DienTich</th>\n",
       "      <th>LoaiDat</th>\n",
       "      <th>MatTien</th>\n",
       "      <th>ThoiHan</th>\n",
       "    </tr>\n",
       "  </thead>\n",
       "  <tbody>\n",
       "    <tr>\n",
       "      <th>3</th>\n",
       "      <td>23</td>\n",
       "      <td>15_dat_co_thoi_han</td>\n",
       "      <td>67</td>\n",
       "      <td>15</td>\n",
       "    </tr>\n",
       "  </tbody>\n",
       "</table>\n",
       "</div>"
      ],
      "text/plain": [
       "   DienTich             LoaiDat  MatTien  ThoiHan\n",
       "3        23  15_dat_co_thoi_han       67       15"
      ]
     },
     "execution_count": 101,
     "metadata": {},
     "output_type": "execute_result"
    }
   ],
   "source": [
    "df_thoihan = df[df['LoaiDat'].str.contains('dat_co_thoi_han', case=False, na=False)].copy()\n",
    "df_thoihan['ThoiHan'] = df_thoihan['LoaiDat'].str.split('_').str[0].astype(int)\n",
    "\n",
    "df_thoihan10 = df_thoihan[df_thoihan['ThoiHan'] > 10]\n",
    "\n",
    "df_thoihan10"
   ]
  },
  {
   "cell_type": "code",
   "execution_count": 102,
   "id": "39d3daa3-16dd-4640-98ab-eeb821f39634",
   "metadata": {},
   "outputs": [
    {
     "name": "stdout",
     "output_type": "stream",
     "text": [
      "         date  year\n",
      "0  29/09/2004  2004\n",
      "1  15/06/2010  2010\n",
      "2  01/01/2022  2022\n"
     ]
    }
   ],
   "source": [
    "# get year from a string\n",
    "# Sample DataFrame\n",
    "data = {'date': ['29/09/2004', '15/06/2010', '01/01/2022']}\n",
    "ex = pd.DataFrame(data)\n",
    "\n",
    "# Convert the date column to datetime and extract the year\n",
    "ex['year'] = pd.to_datetime(ex['date'], format='%d/%m/%Y').dt.year\n",
    "\n",
    "print(ex)"
   ]
  },
  {
   "cell_type": "code",
   "execution_count": 103,
   "id": "5d0b9188-9475-4c04-84df-9261162b8956",
   "metadata": {},
   "outputs": [
    {
     "data": {
      "text/html": [
       "<div>\n",
       "<style scoped>\n",
       "    .dataframe tbody tr th:only-of-type {\n",
       "        vertical-align: middle;\n",
       "    }\n",
       "\n",
       "    .dataframe tbody tr th {\n",
       "        vertical-align: top;\n",
       "    }\n",
       "\n",
       "    .dataframe thead th {\n",
       "        text-align: right;\n",
       "    }\n",
       "</style>\n",
       "<table border=\"1\" class=\"dataframe\">\n",
       "  <thead>\n",
       "    <tr style=\"text-align: right;\">\n",
       "      <th></th>\n",
       "      <th>DienTich</th>\n",
       "      <th>LoaiDat</th>\n",
       "      <th>MatTien</th>\n",
       "      <th>GiaTri</th>\n",
       "    </tr>\n",
       "  </thead>\n",
       "  <tbody>\n",
       "    <tr>\n",
       "      <th>0</th>\n",
       "      <td>167</td>\n",
       "      <td>1_dat_nong_nghiep</td>\n",
       "      <td>15</td>\n",
       "      <td>334</td>\n",
       "    </tr>\n",
       "    <tr>\n",
       "      <th>1</th>\n",
       "      <td>200</td>\n",
       "      <td>2_dat_khong_thoi_han</td>\n",
       "      <td>20</td>\n",
       "      <td>80000</td>\n",
       "    </tr>\n",
       "    <tr>\n",
       "      <th>2</th>\n",
       "      <td>40</td>\n",
       "      <td>10_dat_nong_nghiep</td>\n",
       "      <td>40</td>\n",
       "      <td>80</td>\n",
       "    </tr>\n",
       "    <tr>\n",
       "      <th>3</th>\n",
       "      <td>23</td>\n",
       "      <td>15_dat_co_thoi_han</td>\n",
       "      <td>67</td>\n",
       "      <td>Không xác định giá trị</td>\n",
       "    </tr>\n",
       "    <tr>\n",
       "      <th>4</th>\n",
       "      <td>1000</td>\n",
       "      <td>2_dat_nong_nghiep</td>\n",
       "      <td>90</td>\n",
       "      <td>2000</td>\n",
       "    </tr>\n",
       "    <tr>\n",
       "      <th>5</th>\n",
       "      <td>3000</td>\n",
       "      <td>1_dat_khong_thoi_han</td>\n",
       "      <td>45</td>\n",
       "      <td>6075000</td>\n",
       "    </tr>\n",
       "  </tbody>\n",
       "</table>\n",
       "</div>"
      ],
      "text/plain": [
       "   DienTich               LoaiDat  MatTien                  GiaTri\n",
       "0       167     1_dat_nong_nghiep       15                     334\n",
       "1       200  2_dat_khong_thoi_han       20                   80000\n",
       "2        40    10_dat_nong_nghiep       40                      80\n",
       "3        23    15_dat_co_thoi_han       67  Không xác định giá trị\n",
       "4      1000     2_dat_nong_nghiep       90                    2000\n",
       "5      3000  1_dat_khong_thoi_han       45                 6075000"
      ]
     },
     "execution_count": 103,
     "metadata": {},
     "output_type": "execute_result"
    }
   ],
   "source": [
    "# Chèn cột tiền giá trị lô đất\n",
    "def tinh_toan(row):\n",
    "    if 'dat_nong_nghiep' in row['LoaiDat']:\n",
    "        return row['DienTich'] * 2\n",
    "    elif 'dat_khong_thoi_han' in row['LoaiDat']:\n",
    "        return row['DienTich'] * (row['MatTien'] ** 2)\n",
    "    else:\n",
    "        return \"Không xác định giá trị\"\n",
    "\n",
    "df['GiaTri'] = df.apply(tinh_toan, axis=1)\n",
    "df"
   ]
  },
  {
   "cell_type": "code",
   "execution_count": 104,
   "id": "0a53153f-51d4-47a5-ac54-7ec4e54b8da5",
   "metadata": {},
   "outputs": [
    {
     "data": {
      "text/html": [
       "<div>\n",
       "<style scoped>\n",
       "    .dataframe tbody tr th:only-of-type {\n",
       "        vertical-align: middle;\n",
       "    }\n",
       "\n",
       "    .dataframe tbody tr th {\n",
       "        vertical-align: top;\n",
       "    }\n",
       "\n",
       "    .dataframe thead th {\n",
       "        text-align: right;\n",
       "    }\n",
       "</style>\n",
       "<table border=\"1\" class=\"dataframe\">\n",
       "  <thead>\n",
       "    <tr style=\"text-align: right;\">\n",
       "      <th></th>\n",
       "      <th>DienTich</th>\n",
       "      <th>LoaiDat</th>\n",
       "      <th>MatTien</th>\n",
       "      <th>GiaTri</th>\n",
       "      <th>ChuyenDoi</th>\n",
       "    </tr>\n",
       "  </thead>\n",
       "  <tbody>\n",
       "    <tr>\n",
       "      <th>0</th>\n",
       "      <td>167</td>\n",
       "      <td>1_dat_nong_nghiep</td>\n",
       "      <td>15</td>\n",
       "      <td>334</td>\n",
       "      <td>2505</td>\n",
       "    </tr>\n",
       "    <tr>\n",
       "      <th>2</th>\n",
       "      <td>40</td>\n",
       "      <td>10_dat_nong_nghiep</td>\n",
       "      <td>40</td>\n",
       "      <td>80</td>\n",
       "      <td>600</td>\n",
       "    </tr>\n",
       "    <tr>\n",
       "      <th>4</th>\n",
       "      <td>1000</td>\n",
       "      <td>2_dat_nong_nghiep</td>\n",
       "      <td>90</td>\n",
       "      <td>2000</td>\n",
       "      <td>15000</td>\n",
       "    </tr>\n",
       "  </tbody>\n",
       "</table>\n",
       "</div>"
      ],
      "text/plain": [
       "   DienTich             LoaiDat  MatTien GiaTri ChuyenDoi\n",
       "0       167   1_dat_nong_nghiep       15    334      2505\n",
       "2        40  10_dat_nong_nghiep       40     80       600\n",
       "4      1000   2_dat_nong_nghiep       90   2000     15000"
      ]
     },
     "execution_count": 104,
     "metadata": {},
     "output_type": "execute_result"
    }
   ],
   "source": [
    "# chèn cột chuyển đổi cho đất nông nghiệp, các loại khác ghi 'chưa có công văn'\n",
    "def chuyen_doi(row):\n",
    "    if 'dat_nong_nghiep' in row['LoaiDat']:\n",
    "        return row['DienTich'] * 15\n",
    "    else:\n",
    "        return 'chưa có công văn'\n",
    "\n",
    "df['ChuyenDoi'] = df.apply(chuyen_doi, axis=1)\n",
    "df[df['ChuyenDoi'] != 'chưa có công văn']"
   ]
  },
  {
   "cell_type": "code",
   "execution_count": 105,
   "id": "3bb9ad83-e082-42ba-891a-4e8d2a3c6afd",
   "metadata": {},
   "outputs": [
    {
     "data": {
      "image/png": "[encoded data removed]",
      "text/plain": [
       "<Figure size 1000x600 with 1 Axes>"
      ]
     },
     "metadata": {},
     "output_type": "display_data"
    }
   ],
   "source": [
    "mean = df['DienTich'].mean()\n",
    "std = df['DienTich'].std()\n",
    "\n",
    "# Hàm tính mật độ xác suất\n",
    "def probability_density(x):\n",
    "    return norm.pdf(x, mean, std)\n",
    "\n",
    "# Tạo dữ liệu cho biểu đồ\n",
    "x = np.linspace(mean - 3 * std, mean + 3 * std, 100)\n",
    "y = probability_density(x)\n",
    "\n",
    "# Vẽ biểu đồ phân phối chuẩn\n",
    "plt.figure(figsize=(10, 6))\n",
    "plt.plot(x, y, label='Phân phối chuẩn', color='blue')\n",
    "plt.title('Biểu đồ phân phối chuẩn cho diện tích')\n",
    "plt.xlabel('Diện tích (m²)')\n",
    "plt.ylabel('Mật độ xác suất')\n",
    "plt.xlim([mean - 3 * std, mean + 3 * std])\n",
    "plt.ylim([0, max(y) * 1.1])\n",
    "plt.grid()\n",
    "\n",
    "plt.legend()\n",
    "plt.show()"
   ]
  },
  {
   "cell_type": "code",
   "execution_count": null,
   "id": "9c5ffa65-68c1-432a-97c1-b86ea6029a1d",
   "metadata": {},
   "outputs": [],
   "source": []
  }
 ],
 "metadata": {
  "kernelspec": {
   "display_name": "Python 3 (ipykernel)",
   "language": "python",
   "name": "python3"
  },
  "language_info": {
   "codemirror_mode": {
    "name": "ipython",
    "version": 3
   },
   "file_extension": ".py",
   "mimetype": "text/x-python",
   "name": "python",
   "nbconvert_exporter": "python",
   "pygments_lexer": "ipython3",
   "version": "3.12.7"
  }
 },
 "nbformat": 4,
 "nbformat_minor": 5
}
