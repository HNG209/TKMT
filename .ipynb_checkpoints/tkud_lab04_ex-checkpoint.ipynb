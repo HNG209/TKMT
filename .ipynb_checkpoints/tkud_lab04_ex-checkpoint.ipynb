{
 "cells": [
  {
   "cell_type": "markdown",
   "id": "15e9ec4f",
   "metadata": {},
   "source": [
    "# KHÁM PHÁ DỮ LIỆU\n",
    "\n",
    "Dữ liệu chứa trong file `tips.csv` chứa thông tin tiền tip của khách hàng tại một nhà hàng. Dữ liệu có các thông tin sau:\n",
    "\n",
    "- `total_bill`: tổng hoá đơn (USD)\n",
    "- `tip`: tiền tip/ tiền boa (USD)\n",
    "- `sex`: giới tính người thanh toán hóa đơn\n",
    "- `smoker`: có hút thuốc hay không\n",
    "- `day`: ngày trong tuần\n",
    "- `time`: thời gian dùng bữa(buổi sáng, buổi trưa, buổi tối)\n",
    "- `size`: số lượng người tham gia\n",
    "\n",
    "Bạn hãy thực hiện thống kê mô tả để tìm hiểu về hành vi tip của khách hàng tại nhà hàng"
   ]
  },
  {
   "cell_type": "markdown",
   "id": "02bd0e4c",
   "metadata": {},
   "source": [
    "## HIỂU DỮ LIỆU"
   ]
  },
  {
   "cell_type": "markdown",
   "id": "d846edfc",
   "metadata": {},
   "source": [
    "1. Đọc dữ liệu\n",
    "2. Xoá cột `Unnamed: 0`\n",
    "3. Cho biết dữ liệu có bao nhiêu dòng, bao nhiêu thuộc tính.\n",
    "4. Trong các thuộc tính, thuộc tính nào là thuộc tính phân loại, thuộc tính nào là thuộc tính định lượng\n",
    "5. Có bao nhiêu nam, bao nhiêu nữ. Tỷ lệ bao nhiêu?\n",
    "6. Có bao nhiêu người hút thuốc. Tỷ lệ bao nhiêu?\n",
    "7. Ngày nào trong tuần khách hàng hay đến dùng bữa nhất. Tỷ lệ bao nhiêu?\n",
    "8. Nhà hàng phục vụ bữa ăn nào nhiều nhất (Breakfast, Lunch, Dinner)?\n",
    "9. Nhóm khách hàng dùng bữa tại nhà hàng nhiều nhất là bao nhiêu người?\n",
    "10. Trung bình trong một bữa ăn nhà hàng phục vụ mấy khách?"
   ]
  },
  {
   "cell_type": "code",
   "execution_count": 1,
   "id": "99f06a11-a8db-44a5-bee7-c2f846296dce",
   "metadata": {},
   "outputs": [],
   "source": [
    "import pandas as pd\n",
    "import numpy as np\n",
    "import matplotlib.pyplot as plt"
   ]
  },
  {
   "cell_type": "markdown",
   "id": "fdb09e85-bb71-4186-928c-0de735889fd6",
   "metadata": {},
   "source": [
    "1. Đọc dữ liệu"
   ]
  },
  {
   "cell_type": "code",
   "execution_count": 3,
   "id": "64d6d168-49ee-40a2-ae01-b7a4f9474888",
   "metadata": {},
   "outputs": [],
   "source": [
    "tips = pd.read_csv('datasets/tips.csv', header=0)"
   ]
  },
  {
   "cell_type": "markdown",
   "id": "473926a9-5b69-48c3-8d15-cc4a7ac5dfb0",
   "metadata": {},
   "source": [
    "2. Xoá cột Unnamed: 0"
   ]
  },
  {
   "cell_type": "code",
   "execution_count": 4,
   "id": "5114e7c7-915e-4990-b69a-fc66dbcb10eb",
   "metadata": {},
   "outputs": [
    {
     "name": "stdout",
     "output_type": "stream",
     "text": [
      "['total_bill', 'tip', 'sex', 'smoker', 'day', 'time', 'size']\n"
     ]
    }
   ],
   "source": [
    "tips = tips.drop(columns=[\"Unnamed: 0\"], errors=\"ignore\")\n",
    "print(tips.columns.tolist())"
   ]
  },
  {
   "cell_type": "markdown",
   "id": "9222e1a6-91ea-4343-888a-28d4e2d0dd8f",
   "metadata": {},
   "source": [
    "3. Cho biết dữ liệu có bao nhiêu dòng, bao nhiêu thuộc tính."
   ]
  },
  {
   "cell_type": "code",
   "execution_count": 83,
   "id": "a73aad0a-f3de-4018-8158-3d85dc3e8967",
   "metadata": {},
   "outputs": [
    {
     "name": "stdout",
     "output_type": "stream",
     "text": [
      "<class 'pandas.core.frame.DataFrame'>\n",
      "RangeIndex: 244 entries, 0 to 243\n",
      "Data columns (total 7 columns):\n",
      " #   Column      Non-Null Count  Dtype  \n",
      "---  ------      --------------  -----  \n",
      " 0   total_bill  244 non-null    float64\n",
      " 1   tip         244 non-null    float64\n",
      " 2   sex         244 non-null    object \n",
      " 3   smoker      244 non-null    object \n",
      " 4   day         244 non-null    object \n",
      " 5   time        244 non-null    object \n",
      " 6   size        244 non-null    int64  \n",
      "dtypes: float64(2), int64(1), object(4)\n",
      "memory usage: 13.5+ KB\n"
     ]
    }
   ],
   "source": [
    "tips.info()"
   ]
  },
  {
   "cell_type": "markdown",
   "id": "2c1081fc-4be4-42f3-bc05-eb2cebd5d378",
   "metadata": {},
   "source": [
    "4. Trong các thuộc tính, thuộc tính nào là thuộc tính phân loại, thuộc tính nào là thuộc tính định lượng"
   ]
  },
  {
   "cell_type": "code",
   "execution_count": 84,
   "id": "2cc10056-ab4d-48cc-8eec-5545e1e5ff06",
   "metadata": {},
   "outputs": [
    {
     "data": {
      "text/html": [
       "<div>\n",
       "<style scoped>\n",
       "    .dataframe tbody tr th:only-of-type {\n",
       "        vertical-align: middle;\n",
       "    }\n",
       "\n",
       "    .dataframe tbody tr th {\n",
       "        vertical-align: top;\n",
       "    }\n",
       "\n",
       "    .dataframe thead th {\n",
       "        text-align: right;\n",
       "    }\n",
       "</style>\n",
       "<table border=\"1\" class=\"dataframe\">\n",
       "  <thead>\n",
       "    <tr style=\"text-align: right;\">\n",
       "      <th></th>\n",
       "      <th>total_bill</th>\n",
       "      <th>tip</th>\n",
       "      <th>sex</th>\n",
       "      <th>smoker</th>\n",
       "      <th>day</th>\n",
       "      <th>time</th>\n",
       "      <th>size</th>\n",
       "    </tr>\n",
       "  </thead>\n",
       "  <tbody>\n",
       "    <tr>\n",
       "      <th>count</th>\n",
       "      <td>244.000000</td>\n",
       "      <td>244.000000</td>\n",
       "      <td>244</td>\n",
       "      <td>244</td>\n",
       "      <td>244</td>\n",
       "      <td>244</td>\n",
       "      <td>244.000000</td>\n",
       "    </tr>\n",
       "    <tr>\n",
       "      <th>unique</th>\n",
       "      <td>NaN</td>\n",
       "      <td>NaN</td>\n",
       "      <td>2</td>\n",
       "      <td>2</td>\n",
       "      <td>4</td>\n",
       "      <td>2</td>\n",
       "      <td>NaN</td>\n",
       "    </tr>\n",
       "    <tr>\n",
       "      <th>top</th>\n",
       "      <td>NaN</td>\n",
       "      <td>NaN</td>\n",
       "      <td>Male</td>\n",
       "      <td>No</td>\n",
       "      <td>Sat</td>\n",
       "      <td>Dinner</td>\n",
       "      <td>NaN</td>\n",
       "    </tr>\n",
       "    <tr>\n",
       "      <th>freq</th>\n",
       "      <td>NaN</td>\n",
       "      <td>NaN</td>\n",
       "      <td>157</td>\n",
       "      <td>151</td>\n",
       "      <td>87</td>\n",
       "      <td>176</td>\n",
       "      <td>NaN</td>\n",
       "    </tr>\n",
       "    <tr>\n",
       "      <th>mean</th>\n",
       "      <td>19.785943</td>\n",
       "      <td>2.998279</td>\n",
       "      <td>NaN</td>\n",
       "      <td>NaN</td>\n",
       "      <td>NaN</td>\n",
       "      <td>NaN</td>\n",
       "      <td>2.569672</td>\n",
       "    </tr>\n",
       "    <tr>\n",
       "      <th>std</th>\n",
       "      <td>8.902412</td>\n",
       "      <td>1.383638</td>\n",
       "      <td>NaN</td>\n",
       "      <td>NaN</td>\n",
       "      <td>NaN</td>\n",
       "      <td>NaN</td>\n",
       "      <td>0.951100</td>\n",
       "    </tr>\n",
       "    <tr>\n",
       "      <th>min</th>\n",
       "      <td>3.070000</td>\n",
       "      <td>1.000000</td>\n",
       "      <td>NaN</td>\n",
       "      <td>NaN</td>\n",
       "      <td>NaN</td>\n",
       "      <td>NaN</td>\n",
       "      <td>1.000000</td>\n",
       "    </tr>\n",
       "    <tr>\n",
       "      <th>25%</th>\n",
       "      <td>13.347500</td>\n",
       "      <td>2.000000</td>\n",
       "      <td>NaN</td>\n",
       "      <td>NaN</td>\n",
       "      <td>NaN</td>\n",
       "      <td>NaN</td>\n",
       "      <td>2.000000</td>\n",
       "    </tr>\n",
       "    <tr>\n",
       "      <th>50%</th>\n",
       "      <td>17.795000</td>\n",
       "      <td>2.900000</td>\n",
       "      <td>NaN</td>\n",
       "      <td>NaN</td>\n",
       "      <td>NaN</td>\n",
       "      <td>NaN</td>\n",
       "      <td>2.000000</td>\n",
       "    </tr>\n",
       "    <tr>\n",
       "      <th>75%</th>\n",
       "      <td>24.127500</td>\n",
       "      <td>3.562500</td>\n",
       "      <td>NaN</td>\n",
       "      <td>NaN</td>\n",
       "      <td>NaN</td>\n",
       "      <td>NaN</td>\n",
       "      <td>3.000000</td>\n",
       "    </tr>\n",
       "    <tr>\n",
       "      <th>max</th>\n",
       "      <td>50.810000</td>\n",
       "      <td>10.000000</td>\n",
       "      <td>NaN</td>\n",
       "      <td>NaN</td>\n",
       "      <td>NaN</td>\n",
       "      <td>NaN</td>\n",
       "      <td>6.000000</td>\n",
       "    </tr>\n",
       "  </tbody>\n",
       "</table>\n",
       "</div>"
      ],
      "text/plain": [
       "        total_bill         tip   sex smoker  day    time        size\n",
       "count   244.000000  244.000000   244    244  244     244  244.000000\n",
       "unique         NaN         NaN     2      2    4       2         NaN\n",
       "top            NaN         NaN  Male     No  Sat  Dinner         NaN\n",
       "freq           NaN         NaN   157    151   87     176         NaN\n",
       "mean     19.785943    2.998279   NaN    NaN  NaN     NaN    2.569672\n",
       "std       8.902412    1.383638   NaN    NaN  NaN     NaN    0.951100\n",
       "min       3.070000    1.000000   NaN    NaN  NaN     NaN    1.000000\n",
       "25%      13.347500    2.000000   NaN    NaN  NaN     NaN    2.000000\n",
       "50%      17.795000    2.900000   NaN    NaN  NaN     NaN    2.000000\n",
       "75%      24.127500    3.562500   NaN    NaN  NaN     NaN    3.000000\n",
       "max      50.810000   10.000000   NaN    NaN  NaN     NaN    6.000000"
      ]
     },
     "execution_count": 84,
     "metadata": {},
     "output_type": "execute_result"
    }
   ],
   "source": [
    "tips.describe(include='all')"
   ]
  },
  {
   "cell_type": "markdown",
   "id": "668d44d5-823c-4bf4-a274-bbd570cad444",
   "metadata": {},
   "source": [
    "5. Có bao nhiêu nam, bao nhiêu nữ. Tỷ lệ bao nhiêu?"
   ]
  },
  {
   "cell_type": "code",
   "execution_count": 18,
   "id": "f9a6b510-b94b-4896-91fe-1a26aa3e2a6e",
   "metadata": {},
   "outputs": [
    {
     "name": "stdout",
     "output_type": "stream",
     "text": [
      "Số lượng nam: 157 ,tỉ lệ: 64.34426229508196\n",
      "Số lượng nữ: 87 ,tỉ lệ: 35.65573770491804\n"
     ]
    }
   ],
   "source": [
    "df_male = tips[tips['sex'] == 'Male']\n",
    "df_female = tips[tips['sex'] == 'Female']\n",
    "male_percentage = df_male.shape[0] / tips.shape[0] * 100\n",
    "female_percentage = 100 - male_percentage\n",
    "\n",
    "print(\"Số lượng nam:\", df_male.shape[0], \",tỉ lệ:\", male_percentage)\n",
    "print(\"Số lượng nữ:\", df_female.shape[0], \",tỉ lệ:\", female_percentage)"
   ]
  },
  {
   "cell_type": "markdown",
   "id": "dda432a8-746e-4cef-951e-5796198828e6",
   "metadata": {},
   "source": [
    "6. Có bao nhiêu người hút thuốc. Tỷ lệ bao nhiêu?"
   ]
  },
  {
   "cell_type": "code",
   "execution_count": 5,
   "id": "bd038d1a-62b6-4559-af1c-3b6c19e53c5c",
   "metadata": {},
   "outputs": [
    {
     "name": "stdout",
     "output_type": "stream",
     "text": [
      "Số lượng người hút thuốc: 93 ,tỉ lệ: 38.114754098360656\n"
     ]
    }
   ],
   "source": [
    "df_smoker = tips[tips['smoker'] == 'Yes']\n",
    "smoker_percentage = df_smoker.shape[0] / tips.shape[0] * 100\n",
    "print(\"Số lượng người hút thuốc:\", df_smoker.shape[0], \",tỉ lệ:\", smoker_percentage)"
   ]
  },
  {
   "cell_type": "markdown",
   "id": "ba42f89f-5b48-46e1-b210-5932feed02b3",
   "metadata": {},
   "source": [
    "7. Ngày nào trong tuần khách hàng hay đến dùng bữa nhất. Tỷ lệ bao nhiêu?"
   ]
  },
  {
   "cell_type": "code",
   "execution_count": 87,
   "id": "9c6218e7-eab5-4283-b6a5-6a172f23bf70",
   "metadata": {},
   "outputs": [
    {
     "name": "stdout",
     "output_type": "stream",
     "text": [
      "Ngày trong tuần mà khách hay đến dùng bữa: Sat ,tỉ lệ: 35.65573770491803\n"
     ]
    }
   ],
   "source": [
    "day_tip = tips['day'].value_counts().to_dict()\n",
    "\n",
    "# lấy ra ngày đông nhất\n",
    "frequent_day = max(day_tip, key=day_tip.get)\n",
    "count_frequent_day = day_tip[frequent_day]\n",
    "\n",
    "print(\"Ngày trong tuần mà khách hay đến dùng bữa:\",frequent_day, \",tỉ lệ:\", count_frequent_day / tips.shape[0] * 100)"
   ]
  },
  {
   "cell_type": "markdown",
   "id": "58f49eea-40c1-445b-a78a-9f2898938396",
   "metadata": {},
   "source": [
    "8. Nhà hàng phục vụ bữa ăn nào nhiều nhất (Breakfast, Lunch, Dinner)?"
   ]
  },
  {
   "cell_type": "code",
   "execution_count": 88,
   "id": "ca8e8581-dee0-400c-acd4-ad1fdb11ab93",
   "metadata": {},
   "outputs": [
    {
     "name": "stdout",
     "output_type": "stream",
     "text": [
      "Nhà hàng thường phục vụ nhiều nhất vào: Dinner ,số lượng: 176\n"
     ]
    }
   ],
   "source": [
    "time_tip = tips['time'].value_counts().to_dict()\n",
    "\n",
    "frequent_time = max(time_tip, key=time_tip.get)\n",
    "count_frequent_time = time_tip[frequent_time]\n",
    "print(\"Nhà hàng thường phục vụ nhiều nhất vào:\", frequent_time, \",số lượng:\", count_frequent_time)"
   ]
  },
  {
   "cell_type": "markdown",
   "id": "f1ac81ce-b5b0-48d9-a57e-ff612061a7de",
   "metadata": {},
   "source": [
    "9. Nhóm khách hàng dùng bữa tại nhà hàng nhiều nhất là bao nhiêu người?"
   ]
  },
  {
   "cell_type": "code",
   "execution_count": 89,
   "id": "0bfe6250-24e1-4985-aa6c-d16d4b8c9c4e",
   "metadata": {},
   "outputs": [
    {
     "name": "stdout",
     "output_type": "stream",
     "text": [
      "Nhóm khách đông nhất có số lượng người là 6\n"
     ]
    }
   ],
   "source": [
    "max_size = tips['size'].max()\n",
    "\n",
    "print(\"Nhóm khách đông nhất có số lượng người là\", max_size)"
   ]
  },
  {
   "cell_type": "markdown",
   "id": "d45defcb-3536-4b6c-a494-e629515ae469",
   "metadata": {},
   "source": [
    "10.Trung bình trong một bữa ăn nhà hàng phục vụ mấy khách?"
   ]
  },
  {
   "cell_type": "code",
   "execution_count": 90,
   "id": "1ef8a986-c563-4851-97cb-feb8fc9b37d7",
   "metadata": {},
   "outputs": [
    {
     "name": "stdout",
     "output_type": "stream",
     "text": [
      "Số khách trung bình mà nhà hàng phục vụ trong 1 bữa ăn là 2\n"
     ]
    }
   ],
   "source": [
    "avg_size = tips['size'].mean()\n",
    "\n",
    "print(\"Số khách trung bình mà nhà hàng phục vụ trong 1 bữa ăn là\", int(avg_size))"
   ]
  },
  {
   "cell_type": "markdown",
   "id": "f00a377c",
   "metadata": {},
   "source": [
    "## YẾU TỐ ẢNH HƯỞNG ĐẾN TIỀN TIP\n",
    "\n",
    "Trong phần này, chúng ta thử tìm hiểu về tiền tip tại nhà hàng và các yếu tố có thể ảnh hưởng đến nó"
   ]
  },
  {
   "cell_type": "markdown",
   "id": "ba58ca8d",
   "metadata": {},
   "source": [
    "1. Tỷ lệ nhận được tiền tip của nhà hàng là bao nhiêu?\n",
    "2. Tỷ lệ tiền tip trên tổng hóa đơn là bao nhiêu?\n",
    "3. Giữa nam và nữ ai tip nhiều tiền hơn, ai tip thường xuyên hơn?\n",
    "4. Giữa người hút thuốc và người không hút thuốc ai tip nhiều tiền hơn, ai tip thường xuyên hơn?\n",
    "5. Thống kê tổng số tiền tip nhận được theo ngày."
   ]
  },
  {
   "cell_type": "markdown",
   "id": "a27c266b-0bcb-4897-a505-982bd7ad5f8a",
   "metadata": {},
   "source": [
    "2. Tỷ lệ tiền tip trên tổng hóa đơn là bao nhiêu?"
   ]
  },
  {
   "cell_type": "code",
   "execution_count": 17,
   "id": "70e0e45b-9e04-41a8-b15a-5bb24e716703",
   "metadata": {},
   "outputs": [
    {
     "name": "stdout",
     "output_type": "stream",
     "text": [
      "tỉ lệ tip trung bình trên tổng hoá đơn: 16.080258172250474\n"
     ]
    }
   ],
   "source": [
    "tips_money = tips['tip'].tolist()\n",
    "bill_total = tips['total_bill'].tolist()\n",
    "\n",
    "tip_percent = [tip / total for tip, total in zip(tips_money, bill_total)]\n",
    "avg_tip_percent = np.mean(tip_percent) * 100\n",
    "\n",
    "print(\"tỉ lệ tip trung bình trên tổng hoá đơn:\", avg_tip_percent)"
   ]
  },
  {
   "cell_type": "markdown",
   "id": "a4c2e120-3865-4fa0-aca9-523202ace465",
   "metadata": {},
   "source": [
    "3. Giữa nam và nữ ai tip nhiều tiền hơn, ai tip thường xuyên hơn?"
   ]
  },
  {
   "cell_type": "code",
   "execution_count": 25,
   "id": "0b1b2c36-76b3-49e5-b703-4d8461515bfd",
   "metadata": {},
   "outputs": [
    {
     "name": "stdout",
     "output_type": "stream",
     "text": [
      "trung bình tip của nam: 3.0896178343949043\n",
      "trung bình tip của nữ: 2.8334482758620685\n",
      "-> nam tip nhiều hơn nữ\n"
     ]
    }
   ],
   "source": [
    "avg_male_tip = np.mean(df_male['tip'].tolist()) # trung bình tip của nam\n",
    "avg_female_tip = np.mean(df_female['tip'].tolist()) # trung bình tip của nữ\n",
    "\n",
    "print(\"trung bình tip của nam:\", avg_male_tip)\n",
    "print(\"trung bình tip của nữ:\", avg_female_tip)\n",
    "\n",
    "if avg_male_tip > avg_female_tip:\n",
    "    print(\"-> nam tip nhiều hơn nữ\")\n",
    "else:\n",
    "    print(\"-> nữ tip nhiều hơn nam\")"
   ]
  },
  {
   "cell_type": "markdown",
   "id": "8e61b16e-5bd0-4a78-99b7-349c3679eff8",
   "metadata": {},
   "source": [
    "4. Giữa người hút thuốc và người không hút thuốc ai tip nhiều tiền hơn, ai tip thường xuyên hơn?"
   ]
  },
  {
   "cell_type": "code",
   "execution_count": 27,
   "id": "7b313c05-6415-4cd5-9ecf-d642fb629e1a",
   "metadata": {},
   "outputs": [
    {
     "name": "stdout",
     "output_type": "stream",
     "text": [
      "trung bình tip của người hút thuốc: 3.008709677419355\n",
      "trung bình tip của người không hút thuốc: 2.9918543046357615\n",
      "-> người hút thuốc tip nhiều hơn\n"
     ]
    }
   ],
   "source": [
    "df_smoker = tips[tips['smoker'] == 'Yes']\n",
    "df_nonsmoker = tips[tips['smoker'] == 'No']\n",
    "\n",
    "avg_smoker_tip = np.mean(df_smoker['tip'].tolist())\n",
    "avg_nonsmoker_tip = np.mean(df_nonsmoker['tip'].tolist())\n",
    "\n",
    "print(\"trung bình tip của người hút thuốc:\", avg_smoker_tip)\n",
    "print(\"trung bình tip của người không hút thuốc:\", avg_nonsmoker_tip)\n",
    "\n",
    "if avg_smoker_tip > avg_nonsmoker_tip:\n",
    "    print(\"-> người hút thuốc tip nhiều hơn\")\n",
    "else:\n",
    "    print(\"-> người không hút thuốc tip nhiều hơn\")"
   ]
  },
  {
   "cell_type": "markdown",
   "id": "9d1703e7-80fb-4d90-8049-8978169829a9",
   "metadata": {},
   "source": [
    "5. Thống kê tổng số tiền tip nhận được theo ngày."
   ]
  },
  {
   "cell_type": "code",
   "execution_count": 13,
   "id": "4f7f5c2b-f6e9-4b9b-95bc-b637b9527917",
   "metadata": {},
   "outputs": [
    {
     "data": {
      "text/html": [
       "<div>\n",
       "<style scoped>\n",
       "    .dataframe tbody tr th:only-of-type {\n",
       "        vertical-align: middle;\n",
       "    }\n",
       "\n",
       "    .dataframe tbody tr th {\n",
       "        vertical-align: top;\n",
       "    }\n",
       "\n",
       "    .dataframe thead th {\n",
       "        text-align: right;\n",
       "    }\n",
       "</style>\n",
       "<table border=\"1\" class=\"dataframe\">\n",
       "  <thead>\n",
       "    <tr style=\"text-align: right;\">\n",
       "      <th></th>\n",
       "      <th>tip</th>\n",
       "    </tr>\n",
       "    <tr>\n",
       "      <th>day</th>\n",
       "      <th></th>\n",
       "    </tr>\n",
       "  </thead>\n",
       "  <tbody>\n",
       "    <tr>\n",
       "      <th>Fri</th>\n",
       "      <td>51.96</td>\n",
       "    </tr>\n",
       "    <tr>\n",
       "      <th>Sat</th>\n",
       "      <td>260.40</td>\n",
       "    </tr>\n",
       "    <tr>\n",
       "      <th>Sun</th>\n",
       "      <td>247.39</td>\n",
       "    </tr>\n",
       "    <tr>\n",
       "      <th>Thur</th>\n",
       "      <td>171.83</td>\n",
       "    </tr>\n",
       "  </tbody>\n",
       "</table>\n",
       "</div>"
      ],
      "text/plain": [
       "         tip\n",
       "day         \n",
       "Fri    51.96\n",
       "Sat   260.40\n",
       "Sun   247.39\n",
       "Thur  171.83"
      ]
     },
     "execution_count": 13,
     "metadata": {},
     "output_type": "execute_result"
    }
   ],
   "source": [
    "tip_sum = tips.groupby(['day']).sum()[['tip']]\n",
    "tip_sum"
   ]
  },
  {
   "cell_type": "markdown",
   "id": "de38a759",
   "metadata": {},
   "source": [
    "# TRỰC QUAN DỮ LIỆU\n",
    "\n",
    "Để dễ hình dung, bạn hãy trực quan với một số câu hỏi sau đây:\n",
    "\n",
    "1. Vẽ đồ thị thể hiện tổng tiền tip theo ngày\n",
    "2. Vẽ đồ thị thể hiện tổng tiền tip theo bữa ăn (time)\n",
    "3. Vẽ đồ thị histogram của tổng hoá đơn\n",
    "4. Vẽ đồ thị boxplot của tổng hoá đơn\n",
    "5. Vẽ đồ thị để kiểm tra sự liên quan giữa tổng hoá đơn và tiền tip.\n",
    "6. So sánh số tiền mà khách hàng đã chi giữa các ngày trong tuần."
   ]
  },
  {
   "cell_type": "markdown",
   "id": "954a5588-91ad-4318-9857-9325a060e2de",
   "metadata": {},
   "source": [
    "1. Vẽ đồ thị thể hiện tổng tiền tip theo ngày"
   ]
  },
  {
   "cell_type": "code",
   "execution_count": 21,
   "id": "30a61786-40d1-4b66-822c-e11c6f1cd14f",
   "metadata": {},
   "outputs": [
    {
     "data": {
      "image/png": "[encoded data removed]",
      "text/plain": [
       "<Figure size 640x480 with 1 Axes>"
      ]
     },
     "metadata": {},
     "output_type": "display_data"
    }
   ],
   "source": [
    "plt.bar(tip_sum.index.tolist(), tip_sum['tip'].tolist())\n",
    "plt.show()"
   ]
  },
  {
   "cell_type": "markdown",
   "id": "cab3860c-3956-4887-a4c4-9c359faa4b1b",
   "metadata": {},
   "source": [
    "2. Vẽ đồ thị thể hiện tổng tiền tip theo bữa ăn (time)"
   ]
  },
  {
   "cell_type": "code",
   "execution_count": 23,
   "id": "665e2c52-db14-4fed-8249-23e82afe808a",
   "metadata": {},
   "outputs": [
    {
     "data": {
      "image/png": "[encoded data removed]",
      "text/plain": [
       "<Figure size 640x480 with 1 Axes>"
      ]
     },
     "metadata": {},
     "output_type": "display_data"
    }
   ],
   "source": [
    "tip_time = tips.groupby(['time']).sum()[['tip']]\n",
    "\n",
    "plt.bar(tip_time.index.tolist(), tip_time['tip'].tolist())\n",
    "plt.show()"
   ]
  },
  {
   "cell_type": "markdown",
   "id": "a01927b5-6d06-4b6d-ada5-5de1718ab2ea",
   "metadata": {},
   "source": [
    "3. Vẽ đồ thị histogram của tổng hoá đơn"
   ]
  },
  {
   "cell_type": "code",
   "execution_count": 28,
   "id": "1dd19c16-e321-4c08-9273-476891fc6c69",
   "metadata": {},
   "outputs": [
    {
     "data": {
      "image/png": "[encoded data removed]",
      "text/plain": [
       "<Figure size 640x480 with 1 Axes>"
      ]
     },
     "metadata": {},
     "output_type": "display_data"
    }
   ],
   "source": [
    "total_bill = tips['total_bill'].tolist()\n",
    "\n",
    "plt.hist(total_bill, bins = 100, rwidth= 0.8)\n",
    "plt.show()"
   ]
  },
  {
   "cell_type": "markdown",
   "id": "da8c082d-ef3c-4dd1-87a5-1a68d2521b12",
   "metadata": {},
   "source": [
    "4. Vẽ đồ thị boxplot của tổng hoá đơn"
   ]
  },
  {
   "cell_type": "code",
   "execution_count": 31,
   "id": "3c5a38b0-37fe-4302-b044-c9d0435d0141",
   "metadata": {},
   "outputs": [
    {
     "data": {
      "image/png": "[encoded data removed]",
      "text/plain": [
       "<Figure size 640x480 with 1 Axes>"
      ]
     },
     "metadata": {},
     "output_type": "display_data"
    }
   ],
   "source": [
    "plt.boxplot(total_bill, tick_labels=['total bill'])\n",
    "plt.show()"
   ]
  },
  {
   "cell_type": "markdown",
   "id": "df17bc1d-6aa6-422e-a4ff-7aa0235fdb4e",
   "metadata": {},
   "source": [
    "5. Vẽ đồ thị để kiểm tra sự liên quan giữa tổng hoá đơn và tiền tip."
   ]
  },
  {
   "cell_type": "code",
   "execution_count": 41,
   "id": "e5b904df-9dfb-4b65-bb83-dd742c4deaa8",
   "metadata": {},
   "outputs": [
    {
     "data": {
      "image/png": "[encoded data removed]",
      "text/plain": [
       "<Figure size 640x480 with 1 Axes>"
      ]
     },
     "metadata": {},
     "output_type": "display_data"
    }
   ],
   "source": [
    "tip = tips['tip'].tolist()\n",
    "\n",
    "plt.boxplot(x=[total_bill, tip], tick_labels=['total bill', 'tip money'])\n",
    "\n",
    "plt.show()"
   ]
  },
  {
   "cell_type": "markdown",
   "id": "7ffb210f-f1a5-4f15-98d5-e26829d3e7e4",
   "metadata": {},
   "source": [
    "6. So sánh số tiền mà khách hàng đã chi giữa các ngày trong tuần."
   ]
  },
  {
   "cell_type": "code",
   "execution_count": 56,
   "id": "be03535a-af44-45d6-939e-d1d91397b308",
   "metadata": {},
   "outputs": [
    {
     "data": {
      "image/png": "[encoded data removed]",
      "text/plain": [
       "<Figure size 640x480 with 1 Axes>"
      ]
     },
     "metadata": {},
     "output_type": "display_data"
    }
   ],
   "source": [
    "# số tiền khách chi = tổng hoá đơn + tip ?\n",
    "df_total = tips.groupby('day').sum()\n",
    "\n",
    "df_total['total'] = df_total['total_bill'] + df_total['tip']\n",
    "\n",
    "plt.pie(df_total['total'], labels=df_total.index)\n",
    "\n",
    "plt.show()"
   ]
  },
  {
   "cell_type": "markdown",
   "id": "d5c79bea",
   "metadata": {},
   "source": [
    "## Với Matplotlib\n",
    "\n",
    "Bạn hãy trực quan với thư viện matplotlib"
   ]
  },
  {
   "cell_type": "markdown",
   "id": "816cf7bf",
   "metadata": {},
   "source": [
    "## Với Seaborn\n",
    "\n",
    "Bạn hãy tìm hiểu và trực quan với thư viện seaborn"
   ]
  },
  {
   "cell_type": "code",
   "execution_count": null,
   "id": "eb35f63a",
   "metadata": {},
   "outputs": [],
   "source": []
  }
 ],
 "metadata": {
  "kernelspec": {
   "display_name": "Python 3 (ipykernel)",
   "language": "python",
   "name": "python3"
  },
  "language_info": {
   "codemirror_mode": {
    "name": "ipython",
    "version": 3
   },
   "file_extension": ".py",
   "mimetype": "text/x-python",
   "name": "python",
   "nbconvert_exporter": "python",
   "pygments_lexer": "ipython3",
   "version": "3.12.7"
  }
 },
 "nbformat": 4,
 "nbformat_minor": 5
}
