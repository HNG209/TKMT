{
 "cells": [
  {
   "cell_type": "code",
   "execution_count": 6,
   "metadata": {},
   "outputs": [
    {
     "data": {
      "text/html": [
       "<div>\n",
       "<style scoped>\n",
       "    .dataframe tbody tr th:only-of-type {\n",
       "        vertical-align: middle;\n",
       "    }\n",
       "\n",
       "    .dataframe tbody tr th {\n",
       "        vertical-align: top;\n",
       "    }\n",
       "\n",
       "    .dataframe thead th {\n",
       "        text-align: right;\n",
       "    }\n",
       "</style>\n",
       "<table border=\"1\" class=\"dataframe\">\n",
       "  <thead>\n",
       "    <tr style=\"text-align: right;\">\n",
       "      <th></th>\n",
       "      <th>DT</th>\n",
       "      <th>Thời hạn</th>\n",
       "      <th>Loại đất</th>\n",
       "      <th>Mặt tiền</th>\n",
       "      <th>Ngay</th>\n",
       "    </tr>\n",
       "  </thead>\n",
       "  <tbody>\n",
       "    <tr>\n",
       "      <th>2</th>\n",
       "      <td>40.0</td>\n",
       "      <td>5</td>\n",
       "      <td>1</td>\n",
       "      <td>40</td>\n",
       "      <td>2020-03-21</td>\n",
       "    </tr>\n",
       "    <tr>\n",
       "      <th>5</th>\n",
       "      <td>3000.0</td>\n",
       "      <td>30</td>\n",
       "      <td>1</td>\n",
       "      <td>45</td>\n",
       "      <td>2020-03-21</td>\n",
       "    </tr>\n",
       "    <tr>\n",
       "      <th>4</th>\n",
       "      <td>1000.0</td>\n",
       "      <td>35</td>\n",
       "      <td>2</td>\n",
       "      <td>90</td>\n",
       "      <td>2020-03-21</td>\n",
       "    </tr>\n",
       "    <tr>\n",
       "      <th>3</th>\n",
       "      <td>23.0</td>\n",
       "      <td>10</td>\n",
       "      <td>1</td>\n",
       "      <td>67</td>\n",
       "      <td>2020-03-21</td>\n",
       "    </tr>\n",
       "    <tr>\n",
       "      <th>0</th>\n",
       "      <td>167.0</td>\n",
       "      <td>10</td>\n",
       "      <td>1</td>\n",
       "      <td>15</td>\n",
       "      <td>2020-03-21</td>\n",
       "    </tr>\n",
       "  </tbody>\n",
       "</table>\n",
       "</div>"
      ],
      "text/plain": [
       "       DT  Thời hạn  Loại đất  Mặt tiền       Ngay\n",
       "2    40.0         5         1        40 2020-03-21\n",
       "5  3000.0        30         1        45 2020-03-21\n",
       "4  1000.0        35         2        90 2020-03-21\n",
       "3    23.0        10         1        67 2020-03-21\n",
       "0   167.0        10         1        15 2020-03-21"
      ]
     },
     "execution_count": 6,
     "metadata": {},
     "output_type": "execute_result"
    }
   ],
   "source": [
    "# 1 a// Doc du lieu vao file hien thi 5 dau dau tien va 5 dong ngau nhien\n",
    "import pandas as pd\n",
    "df = pd.read_excel('zipdata.xlsx')\n",
    "# Hiển thị 5 dòng đầu tiên\n",
    "df.head(5)\n",
    "# Hiển thị 5 dòng ngẫu nhiên\n",
    "df.sample(5)\n",
    "# Kich thuoc df, do dong df, so cot df"
   ]
  },
  {
   "cell_type": "code",
   "execution_count": 7,
   "metadata": {},
   "outputs": [
    {
     "data": {
      "text/plain": [
       "30"
      ]
     },
     "execution_count": 7,
     "metadata": {},
     "output_type": "execute_result"
    }
   ],
   "source": [
    "df.size"
   ]
  },
  {
   "cell_type": "code",
   "execution_count": 8,
   "metadata": {},
   "outputs": [
    {
     "data": {
      "text/plain": [
       "(6, 5)"
      ]
     },
     "execution_count": 8,
     "metadata": {},
     "output_type": "execute_result"
    }
   ],
   "source": [
    "dong, cot = df.shape\n",
    "dong, cot"
   ]
  },
  {
   "cell_type": "code",
   "execution_count": 9,
   "metadata": {},
   "outputs": [
    {
     "data": {
      "text/plain": [
       "4"
      ]
     },
     "execution_count": 9,
     "metadata": {},
     "output_type": "execute_result"
    }
   ],
   "source": [
    "# Thong ke tong so lo dat nong nghiep va so lo dat khong thoi han va ve bieu do pie minh hoa\n",
    "count_datnongnghiep = df[df['Loại đất'] == 1].shape[0]\n",
    "count_datnongnghiep"
   ]
  },
  {
   "cell_type": "code",
   "execution_count": 10,
   "metadata": {},
   "outputs": [
    {
     "data": {
      "text/plain": [
       "np.float64(2000.0)"
      ]
     },
     "execution_count": 10,
     "metadata": {},
     "output_type": "execute_result"
    }
   ],
   "source": [
    "#In ra gia tri thong ke trung binh, dien tich cac lo dat co thoi han tren 10 nam \n",
    "mean_dientich = df[df['Thời hạn'] > 10]['DT'].mean()\n",
    "mean_dientich"
   ]
  },
  {
   "cell_type": "code",
   "execution_count": 11,
   "metadata": {},
   "outputs": [],
   "source": [
    "# 2// Them them cot tien gia lô đất ( Tiền giá đất)  như sau \n",
    "# Đất nông nghiệp giá trị lô đất = DT *2 ; Đất kh xác định thời hạn giá trị lô đất = DT * tiền mặt ^2 \n",
    "# Đất kh có thời hạn: ghi \"Không xác định giá trị\""
   ]
  },
  {
   "cell_type": "code",
   "execution_count": 12,
   "metadata": {},
   "outputs": [],
   "source": [
    "# Giả sử có các cột 'Loại đất' (để xác định loại đất) và 'DT' (diện tích)\n",
    "def calculate_land_value(row):\n",
    "    if row['Loại đất'] == 1:\n",
    "        return row['DT'] * 2\n",
    "    elif row['Loại đất'] == 2:\n",
    "        return 'Không xác định giá trị'\n",
    "    else:\n",
    "        return row['DT'] * (row['Mặt tiền'] ** 2)  # Giả sử có cột 'Mặt tiền'\n",
    "\n",
    "# Thêm cột 'Tiền giá lô đất'\n",
    "df['Tiền giá lô đất'] = df.apply(calculate_land_value, axis=1)"
   ]
  },
  {
   "cell_type": "code",
   "execution_count": 13,
   "metadata": {},
   "outputs": [
    {
     "data": {
      "text/html": [
       "<div>\n",
       "<style scoped>\n",
       "    .dataframe tbody tr th:only-of-type {\n",
       "        vertical-align: middle;\n",
       "    }\n",
       "\n",
       "    .dataframe tbody tr th {\n",
       "        vertical-align: top;\n",
       "    }\n",
       "\n",
       "    .dataframe thead th {\n",
       "        text-align: right;\n",
       "    }\n",
       "</style>\n",
       "<table border=\"1\" class=\"dataframe\">\n",
       "  <thead>\n",
       "    <tr style=\"text-align: right;\">\n",
       "      <th></th>\n",
       "      <th>DT</th>\n",
       "      <th>Thời hạn</th>\n",
       "      <th>Loại đất</th>\n",
       "      <th>Mặt tiền</th>\n",
       "      <th>Ngay</th>\n",
       "      <th>Tiền giá lô đất</th>\n",
       "    </tr>\n",
       "  </thead>\n",
       "  <tbody>\n",
       "    <tr>\n",
       "      <th>0</th>\n",
       "      <td>167.0</td>\n",
       "      <td>10</td>\n",
       "      <td>1</td>\n",
       "      <td>15</td>\n",
       "      <td>2020-03-21</td>\n",
       "      <td>334.0</td>\n",
       "    </tr>\n",
       "    <tr>\n",
       "      <th>1</th>\n",
       "      <td>200.0</td>\n",
       "      <td>2</td>\n",
       "      <td>2</td>\n",
       "      <td>20</td>\n",
       "      <td>2020-03-21</td>\n",
       "      <td>Không xác định giá trị</td>\n",
       "    </tr>\n",
       "    <tr>\n",
       "      <th>2</th>\n",
       "      <td>40.0</td>\n",
       "      <td>5</td>\n",
       "      <td>1</td>\n",
       "      <td>40</td>\n",
       "      <td>2020-03-21</td>\n",
       "      <td>80.0</td>\n",
       "    </tr>\n",
       "    <tr>\n",
       "      <th>3</th>\n",
       "      <td>23.0</td>\n",
       "      <td>10</td>\n",
       "      <td>1</td>\n",
       "      <td>67</td>\n",
       "      <td>2020-03-21</td>\n",
       "      <td>46.0</td>\n",
       "    </tr>\n",
       "    <tr>\n",
       "      <th>4</th>\n",
       "      <td>1000.0</td>\n",
       "      <td>35</td>\n",
       "      <td>2</td>\n",
       "      <td>90</td>\n",
       "      <td>2020-03-21</td>\n",
       "      <td>Không xác định giá trị</td>\n",
       "    </tr>\n",
       "  </tbody>\n",
       "</table>\n",
       "</div>"
      ],
      "text/plain": [
       "       DT  Thời hạn  Loại đất  Mặt tiền       Ngay         Tiền giá lô đất\n",
       "0   167.0        10         1        15 2020-03-21                   334.0\n",
       "1   200.0         2         2        20 2020-03-21  Không xác định giá trị\n",
       "2    40.0         5         1        40 2020-03-21                    80.0\n",
       "3    23.0        10         1        67 2020-03-21                    46.0\n",
       "4  1000.0        35         2        90 2020-03-21  Không xác định giá trị"
      ]
     },
     "execution_count": 13,
     "metadata": {},
     "output_type": "execute_result"
    }
   ],
   "source": [
    "df.head(5)"
   ]
  },
  {
   "cell_type": "code",
   "execution_count": 14,
   "metadata": {},
   "outputs": [
    {
     "data": {
      "text/html": [
       "<div>\n",
       "<style scoped>\n",
       "    .dataframe tbody tr th:only-of-type {\n",
       "        vertical-align: middle;\n",
       "    }\n",
       "\n",
       "    .dataframe tbody tr th {\n",
       "        vertical-align: top;\n",
       "    }\n",
       "\n",
       "    .dataframe thead th {\n",
       "        text-align: right;\n",
       "    }\n",
       "</style>\n",
       "<table border=\"1\" class=\"dataframe\">\n",
       "  <thead>\n",
       "    <tr style=\"text-align: right;\">\n",
       "      <th></th>\n",
       "      <th>DT</th>\n",
       "      <th>Thời hạn</th>\n",
       "      <th>Loại đất</th>\n",
       "      <th>Mặt tiền</th>\n",
       "      <th>Ngay</th>\n",
       "      <th>Tiền giá lô đất</th>\n",
       "      <th>Chuyển đổi</th>\n",
       "    </tr>\n",
       "  </thead>\n",
       "  <tbody>\n",
       "    <tr>\n",
       "      <th>0</th>\n",
       "      <td>167.0</td>\n",
       "      <td>10</td>\n",
       "      <td>1</td>\n",
       "      <td>15</td>\n",
       "      <td>2020-03-21</td>\n",
       "      <td>334.0</td>\n",
       "      <td>2505000000.0</td>\n",
       "    </tr>\n",
       "    <tr>\n",
       "      <th>2</th>\n",
       "      <td>40.0</td>\n",
       "      <td>5</td>\n",
       "      <td>1</td>\n",
       "      <td>40</td>\n",
       "      <td>2020-03-21</td>\n",
       "      <td>80.0</td>\n",
       "      <td>600000000.0</td>\n",
       "    </tr>\n",
       "    <tr>\n",
       "      <th>3</th>\n",
       "      <td>23.0</td>\n",
       "      <td>10</td>\n",
       "      <td>1</td>\n",
       "      <td>67</td>\n",
       "      <td>2020-03-21</td>\n",
       "      <td>46.0</td>\n",
       "      <td>345000000.0</td>\n",
       "    </tr>\n",
       "    <tr>\n",
       "      <th>5</th>\n",
       "      <td>3000.0</td>\n",
       "      <td>30</td>\n",
       "      <td>1</td>\n",
       "      <td>45</td>\n",
       "      <td>2020-03-21</td>\n",
       "      <td>6000.0</td>\n",
       "      <td>45000000000.0</td>\n",
       "    </tr>\n",
       "  </tbody>\n",
       "</table>\n",
       "</div>"
      ],
      "text/plain": [
       "       DT  Thời hạn  Loại đất  Mặt tiền       Ngay Tiền giá lô đất  \\\n",
       "0   167.0        10         1        15 2020-03-21           334.0   \n",
       "2    40.0         5         1        40 2020-03-21            80.0   \n",
       "3    23.0        10         1        67 2020-03-21            46.0   \n",
       "5  3000.0        30         1        45 2020-03-21          6000.0   \n",
       "\n",
       "      Chuyển đổi  \n",
       "0   2505000000.0  \n",
       "2    600000000.0  \n",
       "3    345000000.0  \n",
       "5  45000000000.0  "
      ]
     },
     "execution_count": 14,
     "metadata": {},
     "output_type": "execute_result"
    }
   ],
   "source": [
    "# 3// Chèn thêm cột chuyển đổi đất (Chuyển đổi): \n",
    "# Diện tích * 15 (tr), trong đó chỉ có đất nông nghiệp (Loại đất 1), \n",
    "# các loại đất khác thì ghi chưa có công văn, hãy trích ra các loại đất được phép chuyển đổi\n",
    "df['Chuyển đổi']  = df.apply(lambda row: row['DT'] * 15000000 if row['Loại đất'] == 1 else 'Chưa có công văn', axis=1)\n",
    "dff = df[df['Chuyển đổi'] != 'Chưa có công văn']\n",
    "dff.head(5)\n"
   ]
  },
  {
   "cell_type": "code",
   "execution_count": 15,
   "metadata": {},
   "outputs": [],
   "source": [
    "#4 Giả sử diện tích có phân phối chuẩn, Hãy xây dựng hàm tính mật độ xác xuất\n",
    "# Vẽ biểu đồ phân phối chuẩn cho diện tích , tinh chỉnh xlim, ylim \n",
    "# cho biết bao nhiêu phần trăm lô đất có diện tích dưới 120m*2"
   ]
  },
  {
   "cell_type": "code",
   "execution_count": 16,
   "metadata": {},
   "outputs": [
    {
     "name": "stdout",
     "output_type": "stream",
     "text": [
      "Tỷ lệ phần trăm lô đất có diện tích dưới 120 m²: 29.80%\n"
     ]
    },
    {
     "data": {
      "image/png": "[encoded data removed]",
      "text/plain": [
       "<Figure size 1000x600 with 1 Axes>"
      ]
     },
     "metadata": {},
     "output_type": "display_data"
    }
   ],
   "source": [
    "import matplotlib.pyplot as plt\n",
    "import seaborn as sns\n",
    "import numpy as np\n",
    "from scipy.stats import norm\n",
    "\n",
    "# Tính trung bình và độ lệch chuẩn cho diện tích\n",
    "mean_dt = df['DT'].mean()\n",
    "std_dt = df['DT'].std()\n",
    "\n",
    "# Hàm tính mật độ xác suất\n",
    "def probability_density(x):\n",
    "    return norm.pdf(x, mean_dt, std_dt)\n",
    "\n",
    "# Tạo dữ liệu cho biểu đồ\n",
    "x = np.linspace(mean_dt - 3*std_dt, mean_dt + 3*std_dt, 100)\n",
    "y = probability_density(x)\n",
    "\n",
    "# Vẽ biểu đồ phân phối chuẩn\n",
    "plt.figure(figsize=(10, 6))\n",
    "plt.plot(x, y, label='Phân phối chuẩn', color='blue')\n",
    "plt.title('Biểu đồ phân phối chuẩn cho diện tích')\n",
    "plt.xlabel('Diện tích (m²)')\n",
    "plt.ylabel('Mật độ xác suất')\n",
    "plt.xlim([mean_dt - 3*std_dt, mean_dt + 3*std_dt])\n",
    "plt.ylim([0, max(y) * 1.1])\n",
    "plt.grid()\n",
    "\n",
    "# Tính tỷ lệ phần trăm lô đất có diện tích dưới 120 m²\n",
    "percent_below_120 = norm.cdf(120, mean_dt, std_dt) * 100\n",
    "print(f\"Tỷ lệ phần trăm lô đất có diện tích dưới 120 m²: {percent_below_120:.2f}%\")\n",
    "\n",
    "plt.legend()\n",
    "plt.show()\n"
   ]
  },
  {
   "cell_type": "code",
   "execution_count": 23,
   "metadata": {},
   "outputs": [],
   "source": [
    "# On tap phan cat chuoi nua\n",
    "\n",
    "# Chuyen doi du lieu tu chuoi ve int\n",
    "#df['ngay'] = df['Ngày cấp'].str.extract(r'(\\d{2})').astype(int)\n",
    "# Cắt và lấy phần ngày từ cột 'Ngày cấp'\n",
    "# Chuyển đổi kiểu dữ liệu sang chuỗi và xử lý NaN\n",
    "df['Ngay'] = df['Ngay'].astype(str).fillna('')\n",
    "df['ngay'] = df['Ngay'].str.split('-').str[2].astype(int)\n",
    "# Xoa mot cot\n"
   ]
  },
  {
   "cell_type": "code",
   "execution_count": 24,
   "metadata": {},
   "outputs": [
    {
     "data": {
      "text/plain": [
       "0    21\n",
       "1    21\n",
       "2    21\n",
       "3    21\n",
       "4    21\n",
       "5    21\n",
       "Name: ngay, dtype: int64"
      ]
     },
     "execution_count": 24,
     "metadata": {},
     "output_type": "execute_result"
    }
   ],
   "source": [
    "df['ngay']"
   ]
  },
  {
   "cell_type": "markdown",
   "metadata": {},
   "source": [
    "str.split('/'): Tách chuỗi theo dấu / thành một danh sách.\n",
    "str[0]: Lấy phần đầu tiên của danh sách, tức là phần ngày.\n",
    ".astype(int): Chuyển đổi giá trị thành kiểu số nguyên."
   ]
  }
 ],
 "metadata": {
  "kernelspec": {
   "display_name": "Python 3 (ipykernel)",
   "language": "python",
   "name": "python3"
  },
  "language_info": {
   "codemirror_mode": {
    "name": "ipython",
    "version": 3
   },
   "file_extension": ".py",
   "mimetype": "text/x-python",
   "name": "python",
   "nbconvert_exporter": "python",
   "pygments_lexer": "ipython3",
   "version": "3.12.7"
  }
 },
 "nbformat": 4,
 "nbformat_minor": 4
}
